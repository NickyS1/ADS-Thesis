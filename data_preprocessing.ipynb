{
  "nbformat": 4,
  "nbformat_minor": 0,
  "metadata": {
    "colab": {
      "provenance": []
    },
    "kernelspec": {
      "name": "python3",
      "display_name": "Python 3"
    },
    "language_info": {
      "name": "python"
    }
  },
  "cells": [
    {
      "cell_type": "markdown",
      "source": [
        "# Dataset preprocessing"
      ],
      "metadata": {
        "id": "htfbN3kjNtS-"
      }
    },
    {
      "cell_type": "markdown",
      "source": [
        "## Determine the sentiment for the 1960s"
      ],
      "metadata": {
        "id": "vP3Kdy1GFvyO"
      }
    },
    {
      "cell_type": "code",
      "source": [
        "import pandas as pd\n",
        "import numpy as np\n",
        "\n",
        "# Define function to determine final sentiment\n",
        "def determine_sentiment(row):\n",
        "    label_marin = row['label_marin']\n",
        "    label_maud = row['label_maud']\n",
        "\n",
        "    if label_marin == 0 and label_maud == 0:\n",
        "        return 0\n",
        "    elif label_marin == 1 and label_maud == 1:\n",
        "        return 1\n",
        "    elif label_marin == 2 and label_maud == 2:\n",
        "        return 2\n",
        "    elif label_marin == 0 and label_maud == 1:\n",
        "        return 0\n",
        "    elif label_marin == 1 and label_maud == 0:\n",
        "        return 0\n",
        "    elif label_marin == 1 and label_maud == 2:\n",
        "        return 2\n",
        "    elif label_marin == 2 and label_maud == 1:\n",
        "        return 2\n",
        "    elif label_marin == 0 and label_maud == 2:\n",
        "        return None  # Indicating that the row should be removed\n",
        "    elif label_marin == 2 and label_maud == 0:\n",
        "        return None  # Indicating that the row should be removed\n",
        "\n",
        "# List of input file names\n",
        "input_files = ['1960s_coal_maud.csv', '1960s_gas_maud.csv', '1960s_oil_maud.csv']\n",
        "\n",
        "# Process each dataset\n",
        "for input_file in input_files:\n",
        "    # Read the dataset\n",
        "    df = pd.read_csv(input_file)\n",
        "\n",
        "    # Select the desired columns and rename them\n",
        "    df = df[['text', 'labels', 'labeler3']]\n",
        "    df = df.rename(columns={'labels': 'label_marin', 'labeler3': 'label_maud'})\n",
        "\n",
        "    # Apply the function to each row to determine final sentiment\n",
        "    df['sentiment'] = df.apply(determine_sentiment, axis=1)\n",
        "\n",
        "    # Drop rows where either 'label_marin' or 'label_maud' is None\n",
        "    df.dropna(subset=['sentiment'], inplace=True)\n",
        "\n",
        "    # Extract first and second words of the input file name\n",
        "    input_file_name_parts = input_file.split('_')\n",
        "    output_file_name = f\"{input_file_name_parts[0]}_{input_file_name_parts[1]}.csv\"\n",
        "\n",
        "    # Generate the output file name\n",
        "    output_file = f'{output_file_name}'\n",
        "\n",
        "    # Save the modified DataFrame to a new CSV file\n",
        "    df.to_csv(output_file, index=False)\n",
        "\n",
        "    print(f\"The dataset {input_file} has been processed and saved as {output_file}\")\n"
      ],
      "metadata": {
        "colab": {
          "base_uri": "https://localhost:8080/"
        },
        "id": "4kJSjRq-DPg_",
        "outputId": "94f3c909-069f-4e91-b727-8201684670ca"
      },
      "execution_count": null,
      "outputs": [
        {
          "output_type": "stream",
          "name": "stdout",
          "text": [
            "The dataset 1960s_coal_maud.csv has been processed and saved as 1960s_coal.csv\n",
            "The dataset 1960s_gas_maud.csv has been processed and saved as 1960s_gas.csv\n",
            "The dataset 1960s_oil_maud.csv has been processed and saved as 1960s_oil.csv\n"
          ]
        }
      ]
    },
    {
      "cell_type": "markdown",
      "source": [
        "## Filter datasets from Marin from the 1970s, 1980s and 1990s"
      ],
      "metadata": {
        "id": "MQ7E0t7fbbTK"
      }
    },
    {
      "cell_type": "code",
      "source": [
        "import pandas as pd\n",
        "\n",
        "# List of input file names\n",
        "input_files = [\n",
        "    'marin_1970s_coal_cleaned.csv', 'marin_1970s_gas_cleaned.csv',\n",
        "    'marin_1970s_oil_cleaned.csv', 'marin_1980s_coal_cleaned.csv',\n",
        "    'marin_1980s_gas_cleaned.csv', 'marin_1980s_oil_cleaned.csv',\n",
        "    'marin_1990s_coal_cleaned.csv', 'marin_1990s_gas_cleaned.csv',\n",
        "    'marin_1990s_oil_cleaned.csv'\n",
        "]\n",
        "\n",
        "# Process each file\n",
        "for input_file in input_files:\n",
        "    # Load the dataset\n",
        "    df = pd.read_csv(input_file)\n",
        "\n",
        "    # Select the 'labels' and 'text' columns and rename 'labels' to 'label_marin'\n",
        "    df_selected = df[['text', 'labels']].rename(columns={'labels': 'label_marin'})\n",
        "\n",
        "    # Generate the output file name\n",
        "    output_file = f'filtered_{input_file}'\n",
        "\n",
        "    # Save the resulting DataFrame to a new CSV file\n",
        "    df_selected.to_csv(output_file, index=False)\n",
        "\n",
        "    print(f\"The dataset {input_file} has been filtered and saved as {output_file}\")\n"
      ],
      "metadata": {
        "colab": {
          "base_uri": "https://localhost:8080/"
        },
        "id": "RvSsHHUTbe5B",
        "outputId": "b32cfe54-dab7-4085-c711-8632231a8e1a"
      },
      "execution_count": null,
      "outputs": [
        {
          "output_type": "stream",
          "name": "stdout",
          "text": [
            "The dataset marin_1970s_coal_cleaned.csv has been filtered and saved as filtered_marin_1970s_coal_cleaned.csv\n",
            "The dataset marin_1970s_gas_cleaned.csv has been filtered and saved as filtered_marin_1970s_gas_cleaned.csv\n",
            "The dataset marin_1970s_oil_cleaned.csv has been filtered and saved as filtered_marin_1970s_oil_cleaned.csv\n",
            "The dataset marin_1980s_coal_cleaned.csv has been filtered and saved as filtered_marin_1980s_coal_cleaned.csv\n",
            "The dataset marin_1980s_gas_cleaned.csv has been filtered and saved as filtered_marin_1980s_gas_cleaned.csv\n",
            "The dataset marin_1980s_oil_cleaned.csv has been filtered and saved as filtered_marin_1980s_oil_cleaned.csv\n",
            "The dataset marin_1990s_coal_cleaned.csv has been filtered and saved as filtered_marin_1990s_coal_cleaned.csv\n",
            "The dataset marin_1990s_gas_cleaned.csv has been filtered and saved as filtered_marin_1990s_gas_cleaned.csv\n",
            "The dataset marin_1990s_oil_cleaned.csv has been filtered and saved as filtered_marin_1990s_oil_cleaned.csv\n"
          ]
        }
      ]
    },
    {
      "cell_type": "markdown",
      "source": [
        "## Filter datasets from Edo from the 1970s, 1980s and 1990s"
      ],
      "metadata": {
        "id": "2Ggr06nQcZoi"
      }
    },
    {
      "cell_type": "code",
      "source": [
        "import pandas as pd\n",
        "\n",
        "# List of input file names\n",
        "input_files = [\n",
        "    'edo_1970s_coal_cleaned.csv', 'edo_1970s_gas_cleaned.csv',\n",
        "    'edo_1970s_oil_cleaned.csv', 'edo_1980s_coal_cleaned.csv',\n",
        "    'edo_1980s_gas_cleaned.csv', 'edo_1980s_oil_cleaned.csv',\n",
        "    'edo_1990s_coal_cleaned.csv', 'edo_1990s_gas_cleaned.csv',\n",
        "    'edo_1990s_oil_cleaned.csv'\n",
        "]\n",
        "\n",
        "# Process each file\n",
        "for input_file in input_files:\n",
        "    # Load the dataset\n",
        "    df = pd.read_csv(input_file)\n",
        "\n",
        "    # Select the 'labels' and 'text' columns and rename 'labels' to 'label_marin'\n",
        "    df_selected = df[['text', 'labels']].rename(columns={'labels': 'label_edo'})\n",
        "\n",
        "    # Generate the output file name\n",
        "    output_file = f'filtered_{input_file}'\n",
        "\n",
        "    # Save the resulting DataFrame to a new CSV file\n",
        "    df_selected.to_csv(output_file, index=False)\n",
        "\n",
        "    print(f\"The dataset {input_file} has been filtered and saved as {output_file}\")\n"
      ],
      "metadata": {
        "colab": {
          "base_uri": "https://localhost:8080/"
        },
        "id": "CCCca_lvccLS",
        "outputId": "2a9e227e-aa9b-4678-93cd-39c78ea06e55"
      },
      "execution_count": null,
      "outputs": [
        {
          "output_type": "stream",
          "name": "stdout",
          "text": [
            "The dataset edo_1970s_coal_cleaned.csv has been filtered and saved as filtered_edo_1970s_coal_cleaned.csv\n",
            "The dataset edo_1970s_gas_cleaned.csv has been filtered and saved as filtered_edo_1970s_gas_cleaned.csv\n",
            "The dataset edo_1970s_oil_cleaned.csv has been filtered and saved as filtered_edo_1970s_oil_cleaned.csv\n",
            "The dataset edo_1980s_coal_cleaned.csv has been filtered and saved as filtered_edo_1980s_coal_cleaned.csv\n",
            "The dataset edo_1980s_gas_cleaned.csv has been filtered and saved as filtered_edo_1980s_gas_cleaned.csv\n",
            "The dataset edo_1980s_oil_cleaned.csv has been filtered and saved as filtered_edo_1980s_oil_cleaned.csv\n",
            "The dataset edo_1990s_coal_cleaned.csv has been filtered and saved as filtered_edo_1990s_coal_cleaned.csv\n",
            "The dataset edo_1990s_gas_cleaned.csv has been filtered and saved as filtered_edo_1990s_gas_cleaned.csv\n",
            "The dataset edo_1990s_oil_cleaned.csv has been filtered and saved as filtered_edo_1990s_oil_cleaned.csv\n"
          ]
        }
      ]
    },
    {
      "cell_type": "markdown",
      "source": [
        "## Filter datasets from Maud from the 1970s, 1980s and 1990s"
      ],
      "metadata": {
        "id": "cQjkgEgMhhAQ"
      }
    },
    {
      "cell_type": "code",
      "source": [
        "import pandas as pd\n",
        "\n",
        "# List of input file names\n",
        "input_files = [\n",
        "    '1970s_coal_maud.csv', '1970s_gas_maud.csv', '1970s_oil_maud.csv',\n",
        "    '1980s_coal_maud.csv', '1980s_gas_maud.csv', '1980s_oil_maud.csv',\n",
        "    '1990s_coal_maud.csv', '1990s_gas_maud.csv', '1990s_oil_maud.csv'\n",
        "]\n",
        "\n",
        "# Process each file\n",
        "for input_file in input_files:\n",
        "    # Load the dataset\n",
        "    df = pd.read_csv(input_file)\n",
        "\n",
        "    # Select the 'text_split' and 'labeler3' columns and rename them\n",
        "    df_selected = df[['text_split', 'labeler3']].rename(columns={'text_split': 'text', 'labeler3': 'label_maud'})\n",
        "\n",
        "    # Generate the output file name\n",
        "    output_file = f'filtered_{input_file}'\n",
        "\n",
        "    # Save the resulting DataFrame to a new CSV file\n",
        "    df_selected.to_csv(output_file, index=False)\n",
        "\n",
        "    print(f\"The dataset {input_file} has been filtered, columns renamed, and saved as {output_file}\")\n"
      ],
      "metadata": {
        "colab": {
          "base_uri": "https://localhost:8080/"
        },
        "id": "JOA8afM5hl51",
        "outputId": "40bc5779-2d24-4b06-fa1d-ecc508848158"
      },
      "execution_count": null,
      "outputs": [
        {
          "output_type": "stream",
          "name": "stdout",
          "text": [
            "The dataset 1970s_coal_maud.csv has been filtered, columns renamed, and saved as filtered_1970s_coal_maud.csv\n",
            "The dataset 1970s_gas_maud.csv has been filtered, columns renamed, and saved as filtered_1970s_gas_maud.csv\n",
            "The dataset 1970s_oil_maud.csv has been filtered, columns renamed, and saved as filtered_1970s_oil_maud.csv\n",
            "The dataset 1980s_coal_maud.csv has been filtered, columns renamed, and saved as filtered_1980s_coal_maud.csv\n",
            "The dataset 1980s_gas_maud.csv has been filtered, columns renamed, and saved as filtered_1980s_gas_maud.csv\n",
            "The dataset 1980s_oil_maud.csv has been filtered, columns renamed, and saved as filtered_1980s_oil_maud.csv\n",
            "The dataset 1990s_coal_maud.csv has been filtered, columns renamed, and saved as filtered_1990s_coal_maud.csv\n",
            "The dataset 1990s_gas_maud.csv has been filtered, columns renamed, and saved as filtered_1990s_gas_maud.csv\n",
            "The dataset 1990s_oil_maud.csv has been filtered, columns renamed, and saved as filtered_1990s_oil_maud.csv\n"
          ]
        }
      ]
    },
    {
      "cell_type": "markdown",
      "source": [
        "## Merge the filtered datasets from Marin and Edo from the 1970s, 1980s and 1990s"
      ],
      "metadata": {
        "id": "bQ7mbekEdYu6"
      }
    },
    {
      "cell_type": "code",
      "source": [
        "import pandas as pd\n",
        "\n",
        "# List of input file pairs\n",
        "input_file_pairs = [\n",
        "    ('filtered_marin_1970s_coal_cleaned.csv', 'filtered_edo_1970s_coal_cleaned.csv'),\n",
        "    ('filtered_marin_1970s_gas_cleaned.csv', 'filtered_edo_1970s_gas_cleaned.csv'),\n",
        "    ('filtered_marin_1970s_oil_cleaned.csv', 'filtered_edo_1970s_oil_cleaned.csv'),\n",
        "    ('filtered_marin_1980s_coal_cleaned.csv', 'filtered_edo_1980s_coal_cleaned.csv'),\n",
        "    ('filtered_marin_1980s_gas_cleaned.csv', 'filtered_edo_1980s_gas_cleaned.csv'),\n",
        "    ('filtered_marin_1980s_oil_cleaned.csv', 'filtered_edo_1980s_oil_cleaned.csv'),\n",
        "    ('filtered_marin_1990s_coal_cleaned.csv', 'filtered_edo_1990s_coal_cleaned.csv'),\n",
        "    ('filtered_marin_1990s_gas_cleaned.csv', 'filtered_edo_1990s_gas_cleaned.csv'),\n",
        "    ('filtered_marin_1990s_oil_cleaned.csv', 'filtered_edo_1990s_oil_cleaned.csv')\n",
        "]\n",
        "\n",
        "# Process each pair of files\n",
        "for part1, part2 in input_file_pairs:\n",
        "    # Load the datasets\n",
        "    df1 = pd.read_csv(part1)\n",
        "    df2 = pd.read_csv(part2)\n",
        "\n",
        "    # Merge the datasets on the 'text' column\n",
        "    merged_df = pd.merge(df1, df2, on='text', how='outer')\n",
        "\n",
        "    # Extract parts 3 and 4 from the first filename\n",
        "    part1_split = part1.split('_')\n",
        "    if len(part1_split) >= 4:\n",
        "        # Modify to include all necessary parts\n",
        "        output_file = f'merged_{part1_split[2]}_{part1_split[3]}'\n",
        "    else:\n",
        "        output_file = f'merged_{part1}'\n",
        "\n",
        "    # Ensure the output file has a .csv extension\n",
        "    if not output_file.endswith('.csv'):\n",
        "        output_file += '.csv'\n",
        "\n",
        "    # Save the resulting DataFrame to a new CSV file\n",
        "    merged_df.to_csv(output_file, index=False)\n",
        "\n",
        "    print(f\"The datasets {part1} and {part2} have been merged and saved as {output_file}\")\n"
      ],
      "metadata": {
        "colab": {
          "base_uri": "https://localhost:8080/"
        },
        "id": "wl4O9mBRdb0A",
        "outputId": "127597c7-0bc2-4e49-9c8f-2e154658697c"
      },
      "execution_count": null,
      "outputs": [
        {
          "output_type": "stream",
          "name": "stdout",
          "text": [
            "The datasets filtered_marin_1970s_coal_cleaned.csv and filtered_edo_1970s_coal_cleaned.csv have been merged and saved as merged_1970s_coal.csv\n",
            "The datasets filtered_marin_1970s_gas_cleaned.csv and filtered_edo_1970s_gas_cleaned.csv have been merged and saved as merged_1970s_gas.csv\n",
            "The datasets filtered_marin_1970s_oil_cleaned.csv and filtered_edo_1970s_oil_cleaned.csv have been merged and saved as merged_1970s_oil.csv\n",
            "The datasets filtered_marin_1980s_coal_cleaned.csv and filtered_edo_1980s_coal_cleaned.csv have been merged and saved as merged_1980s_coal.csv\n",
            "The datasets filtered_marin_1980s_gas_cleaned.csv and filtered_edo_1980s_gas_cleaned.csv have been merged and saved as merged_1980s_gas.csv\n",
            "The datasets filtered_marin_1980s_oil_cleaned.csv and filtered_edo_1980s_oil_cleaned.csv have been merged and saved as merged_1980s_oil.csv\n",
            "The datasets filtered_marin_1990s_coal_cleaned.csv and filtered_edo_1990s_coal_cleaned.csv have been merged and saved as merged_1990s_coal.csv\n",
            "The datasets filtered_marin_1990s_gas_cleaned.csv and filtered_edo_1990s_gas_cleaned.csv have been merged and saved as merged_1990s_gas.csv\n",
            "The datasets filtered_marin_1990s_oil_cleaned.csv and filtered_edo_1990s_oil_cleaned.csv have been merged and saved as merged_1990s_oil.csv\n"
          ]
        }
      ]
    },
    {
      "cell_type": "markdown",
      "source": [
        "## Merge the filtered datasets from Marin, Edo and Maud from the 1970s, 1980s and 1990s"
      ],
      "metadata": {
        "id": "rzxgLXiqjYB6"
      }
    },
    {
      "cell_type": "code",
      "source": [
        "import pandas as pd\n",
        "\n",
        "# List of input file pairs\n",
        "input_file_pairs = [\n",
        "    ('merged_1970s_coal.csv', 'filtered_1970s_coal_maud.csv'),\n",
        "    ('merged_1970s_gas.csv', 'filtered_1970s_gas_maud.csv'),\n",
        "    ('merged_1970s_oil.csv', 'filtered_1970s_oil_maud.csv'),\n",
        "    ('merged_1980s_coal.csv', 'filtered_1980s_coal_maud.csv'),\n",
        "    ('merged_1980s_gas.csv', 'filtered_1980s_gas_maud.csv'),\n",
        "    ('merged_1980s_oil.csv', 'filtered_1980s_oil_maud.csv'),\n",
        "    ('merged_1990s_coal.csv', 'filtered_1990s_coal_maud.csv'),\n",
        "    ('merged_1990s_gas.csv', 'filtered_1990s_gas_maud.csv'),\n",
        "    ('merged_1990s_oil.csv', 'filtered_1990s_oil_maud.csv')\n",
        "]\n",
        "\n",
        "# Process each pair of files\n",
        "for part1, part2 in input_file_pairs:\n",
        "    # Load the datasets\n",
        "    df1 = pd.read_csv(part1)\n",
        "    df2 = pd.read_csv(part2)\n",
        "\n",
        "    # Merge the datasets on the 'text' column\n",
        "    merged_df = pd.merge(df1, df2, on='text', how='outer')\n",
        "\n",
        "    # Extract parts 3 and 4 from the first filename\n",
        "    part1_split = part1.split('_')\n",
        "    if len(part1_split) >= 4:\n",
        "        # Modify to include all necessary parts\n",
        "        output_file = f'final_{part1_split[1]}_{part1_split[2]}'\n",
        "    else:\n",
        "        output_file = f'final_{part1}'\n",
        "\n",
        "    # Ensure the output file has a .csv extension\n",
        "    if not output_file.endswith('.csv'):\n",
        "        output_file += '.csv'\n",
        "\n",
        "    # Save the resulting DataFrame to a new CSV file\n",
        "    merged_df.to_csv(output_file, index=False)\n",
        "\n",
        "    print(f\"The datasets {part1} and {part2} have been merged and saved as {output_file}\")\n"
      ],
      "metadata": {
        "colab": {
          "base_uri": "https://localhost:8080/"
        },
        "id": "pDSAtASsjbXQ",
        "outputId": "833dd5a5-768f-495f-a865-0c2c91fd261d"
      },
      "execution_count": null,
      "outputs": [
        {
          "output_type": "stream",
          "name": "stdout",
          "text": [
            "The datasets merged_1970s_coal.csv and filtered_1970s_coal_maud.csv have been merged and saved as final_merged_1970s_coal.csv\n",
            "The datasets merged_1970s_gas.csv and filtered_1970s_gas_maud.csv have been merged and saved as final_merged_1970s_gas.csv\n",
            "The datasets merged_1970s_oil.csv and filtered_1970s_oil_maud.csv have been merged and saved as final_merged_1970s_oil.csv\n",
            "The datasets merged_1980s_coal.csv and filtered_1980s_coal_maud.csv have been merged and saved as final_merged_1980s_coal.csv\n",
            "The datasets merged_1980s_gas.csv and filtered_1980s_gas_maud.csv have been merged and saved as final_merged_1980s_gas.csv\n",
            "The datasets merged_1980s_oil.csv and filtered_1980s_oil_maud.csv have been merged and saved as final_merged_1980s_oil.csv\n",
            "The datasets merged_1990s_coal.csv and filtered_1990s_coal_maud.csv have been merged and saved as final_merged_1990s_coal.csv\n",
            "The datasets merged_1990s_gas.csv and filtered_1990s_gas_maud.csv have been merged and saved as final_merged_1990s_gas.csv\n",
            "The datasets merged_1990s_oil.csv and filtered_1990s_oil_maud.csv have been merged and saved as final_merged_1990s_oil.csv\n"
          ]
        }
      ]
    },
    {
      "cell_type": "markdown",
      "source": [
        "## Determining sentiment for the 1970s, 1980s and 1990s"
      ],
      "metadata": {
        "id": "ISVM5y2mkmae"
      }
    },
    {
      "cell_type": "code",
      "source": [
        "import pandas as pd\n",
        "\n",
        "# List of input file names\n",
        "input_files = [\n",
        "    'final_merged_1970s_coal.csv', 'final_merged_1970s_gas.csv',\n",
        "    'final_merged_1970s_oil.csv', 'final_merged_1980s_coal.csv',\n",
        "    'final_merged_1980s_gas.csv', 'final_merged_1980s_oil.csv',\n",
        "    'final_merged_1990s_coal.csv', 'final_merged_1990s_gas.csv',\n",
        "    'final_merged_1990s_oil.csv'\n",
        "]\n",
        "\n",
        "# Process each dataset\n",
        "for input_file in input_files:\n",
        "    # Read the dataset\n",
        "    df = pd.read_csv(input_file)\n",
        "\n",
        "    # Drop rows where either 'label_marin' or 'label_edo' is missing\n",
        "    df = df.dropna(subset=['label_marin', 'label_edo'])\n",
        "\n",
        "    # Define a function to determine final sentiment based on the rules\n",
        "    def determine_sentiment(row):\n",
        "        label_marin = row['label_marin']\n",
        "        label_edo = row['label_edo']\n",
        "        label_maud = row['label_maud']\n",
        "\n",
        "        # Apply rules for rows with two labels\n",
        "        if pd.notna(label_marin) and pd.notna(label_edo):\n",
        "            if label_marin == 0 and label_edo == 0:\n",
        "                return 0\n",
        "            elif label_marin == 1 and label_edo == 1:\n",
        "                return 1\n",
        "            elif label_marin == 2 and label_edo == 2:\n",
        "                return 2\n",
        "            elif label_marin == 0 and label_edo == 1:\n",
        "                return 0\n",
        "            elif label_marin == 1 and label_edo == 0:\n",
        "                return 0\n",
        "            elif label_marin == 1 and label_edo == 2:\n",
        "                return 2\n",
        "            elif label_marin == 2 and label_edo == 1:\n",
        "                return 2\n",
        "            elif label_marin == 0 and label_edo == 2:\n",
        "                return label_maud\n",
        "            elif label_marin == 2 and label_edo == 0:\n",
        "                return label_maud\n",
        "\n",
        "    # Apply the function to each row to determine final sentiment\n",
        "    df['sentiment'] = df.apply(determine_sentiment, axis=1)\n",
        "\n",
        "    # Remove rows where final sentiment could not be determined\n",
        "    df = df.dropna(subset=['sentiment'])\n",
        "\n",
        "    # Generate the output file name\n",
        "    output_file = f\"{input_file.split('_')[2]}_{input_file.split('_')[3]}\"\n",
        "\n",
        "    # Save the filtered DataFrame to a new CSV file\n",
        "    df.to_csv(output_file, index=False)\n",
        "\n",
        "    print(f\"The dataset {input_file} has been filtered and saved as {output_file}\")\n"
      ],
      "metadata": {
        "colab": {
          "base_uri": "https://localhost:8080/"
        },
        "id": "2fhtl9PU_IzG",
        "outputId": "f5c4ea0a-30eb-4cfb-c679-f9b3f3903b37"
      },
      "execution_count": null,
      "outputs": [
        {
          "output_type": "stream",
          "name": "stdout",
          "text": [
            "The dataset final_merged_1970s_coal.csv has been filtered and saved as 1970s_coal.csv\n",
            "The dataset final_merged_1970s_gas.csv has been filtered and saved as 1970s_gas.csv\n",
            "The dataset final_merged_1970s_oil.csv has been filtered and saved as 1970s_oil.csv\n",
            "The dataset final_merged_1980s_coal.csv has been filtered and saved as 1980s_coal.csv\n",
            "The dataset final_merged_1980s_gas.csv has been filtered and saved as 1980s_gas.csv\n",
            "The dataset final_merged_1980s_oil.csv has been filtered and saved as 1980s_oil.csv\n",
            "The dataset final_merged_1990s_coal.csv has been filtered and saved as 1990s_coal.csv\n",
            "The dataset final_merged_1990s_gas.csv has been filtered and saved as 1990s_gas.csv\n",
            "The dataset final_merged_1990s_oil.csv has been filtered and saved as 1990s_oil.csv\n"
          ]
        }
      ]
    },
    {
      "cell_type": "markdown",
      "source": [
        "## Remove duplicates from all datasets"
      ],
      "metadata": {
        "id": "69hP3kvJIBNU"
      }
    },
    {
      "cell_type": "code",
      "source": [
        "import pandas as pd\n",
        "\n",
        "# Filenames of the datasets\n",
        "filenames = ['1960s_gas.csv', '1970s_gas.csv', '1980s_gas.csv', '1990s_gas.csv']\n",
        "\n",
        "# Function to remove duplicate rows based on 'text' and 'sentiment' columns\n",
        "def remove_duplicate_rows(df):\n",
        "    return df.drop_duplicates(subset=['text', 'sentiment'])\n",
        "\n",
        "# Process each file\n",
        "for filename in filenames:\n",
        "    # Read the dataset\n",
        "    df = pd.read_csv(filename)\n",
        "\n",
        "    # Remove duplicate rows\n",
        "    cleaned_df = remove_duplicate_rows(df)\n",
        "\n",
        "    # Save the cleaned dataset back to a new CSV file\n",
        "    cleaned_filename = 'cleaned_' + filename\n",
        "    cleaned_df.to_csv(cleaned_filename, index=False)\n",
        "\n",
        "    print(f\"Processed {filename}, saved cleaned data to {cleaned_filename}\")\n",
        "\n"
      ],
      "metadata": {
        "colab": {
          "base_uri": "https://localhost:8080/"
        },
        "id": "lNETDR9QH99X",
        "outputId": "10b09831-c278-4915-cb7d-c7a3e309b8e5"
      },
      "execution_count": null,
      "outputs": [
        {
          "output_type": "stream",
          "name": "stdout",
          "text": [
            "Processed 1960s_gas.csv, saved cleaned data to cleaned_1960s_gas.csv\n",
            "Processed 1970s_gas.csv, saved cleaned data to cleaned_1970s_gas.csv\n",
            "Processed 1980s_gas.csv, saved cleaned data to cleaned_1980s_gas.csv\n",
            "Processed 1990s_gas.csv, saved cleaned data to cleaned_1990s_gas.csv\n"
          ]
        }
      ]
    }
  ]
}