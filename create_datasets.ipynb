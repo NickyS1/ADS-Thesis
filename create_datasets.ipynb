{
  "nbformat": 4,
  "nbformat_minor": 0,
  "metadata": {
    "colab": {
      "provenance": []
    },
    "kernelspec": {
      "name": "python3",
      "display_name": "Python 3"
    },
    "language_info": {
      "name": "python"
    }
  },
  "cells": [
    {
      "cell_type": "markdown",
      "source": [
        "# Create datasets"
      ],
      "metadata": {
        "id": "v9UisE8ArJw_"
      }
    },
    {
      "cell_type": "code",
      "source": [
        "# Create the datasets for this research\n",
        "import pandas as pd\n",
        "\n",
        "# Load the merged dataset that contains the newspaper articles for\n",
        "# all decades and fossil fuel types: concatenated_df\n",
        "concatenated_df = pd.read_csv('concatenated_df.csv')\n",
        "\n",
        "# Ensure the 'year' column is treated as categorical for filtering the data\n",
        "concatenated_df['year'] = pd.Categorical(concatenated_df['year'],\n",
        "                                         categories=['1960s', '1970s', '1980s', '1990s'],\n",
        "                                         ordered=True)\n",
        "\n",
        "# Filter the data and save each subset\n",
        "for decade in ['1960s', '1970s', '1980s', '1990s']:\n",
        "    # Filter based on decade and fuel_type 'gas'\n",
        "    subset_df = concatenated_df[(concatenated_df['year'] == decade) &\n",
        "                                (concatenated_df['fuel_type'] == 'gas')]\n",
        "\n",
        "    # Generate filename based on decade and fuel_type\n",
        "    filename = f\"{decade}_gas.csv\"\n",
        "\n",
        "    # Save subset as CSV file\n",
        "    subset_df.to_csv(filename, index=False)\n",
        "\n",
        "    print(f\"File saved: {filename}\")"
      ],
      "metadata": {
        "colab": {
          "base_uri": "https://localhost:8080/"
        },
        "id": "dbGH009jpd1b",
        "outputId": "96606d10-d219-41b0-efea-3b8814a9a1ee"
      },
      "execution_count": null,
      "outputs": [
        {
          "output_type": "stream",
          "name": "stdout",
          "text": [
            "File saved: 1960s_gas.csv\n",
            "File saved: 1970s_gas.csv\n",
            "File saved: 1980s_gas.csv\n",
            "File saved: 1990s_gas.csv\n"
          ]
        }
      ]
    }
  ]
}